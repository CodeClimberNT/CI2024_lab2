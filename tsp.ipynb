{
 "cells": [
  {
   "cell_type": "markdown",
   "metadata": {
    "vscode": {
     "languageId": "plaintext"
    }
   },
   "source": [
    "Copyright **`(c)`** 2024 Giovanni Squillero `<giovanni.squillero@polito.it>`  \n",
    "[`https://github.com/squillero/computational-intelligence`](https://github.com/squillero/computational-intelligence)  \n",
    "Free under certain conditions — see the [`license`](https://github.com/squillero/computational-intelligence/blob/master/LICENSE.md) for details.  "
   ]
  },
  {
   "cell_type": "code",
   "execution_count": 57,
   "metadata": {},
   "outputs": [],
   "source": [
    "import logging\n",
    "from itertools import combinations\n",
    "import pandas as pd\n",
    "import numpy as np\n",
    "from numpy.typing import NDArray\n",
    "import geopy.distance\n",
    "\n",
    "from tqdm.auto import tqdm\n",
    "from icecream import ic\n",
    "\n",
    "import os\n",
    "import matplotlib.pyplot as plt\n",
    "import cv2\n",
    "import re"
   ]
  },
  {
   "cell_type": "markdown",
   "metadata": {},
   "source": [
    "## Lab2 - TSP\n",
    "\n",
    "https://www.wolframcloud.com/obj/giovanni.squillero/Published/Lab2-tsp.nb\n",
    "\n",
    "https://en.wikipedia.org/wiki/Travelling_salesman_problem"
   ]
  },
  {
   "cell_type": "markdown",
   "metadata": {},
   "source": [
    "# Setup"
   ]
  },
  {
   "cell_type": "markdown",
   "metadata": {},
   "source": [
    "## Environment"
   ]
  },
  {
   "cell_type": "code",
   "execution_count": 58,
   "metadata": {},
   "outputs": [],
   "source": [
    "IMG_FOLDER = 'imgs'\n",
    "OUTPUT_PATH = 'out'\n",
    "VIDEO_NAME = 'video.avi'\n",
    "\n",
    "if not os.path.exists(IMG_FOLDER):\n",
    "    os.makedirs(IMG_FOLDER)\n",
    "else:\n",
    "    for filename in os.listdir(IMG_FOLDER):\n",
    "        file_path: str = os.path.join(IMG_FOLDER, filename)\n",
    "    try:\n",
    "        if os.path.isfile(file_path) or os.path.islink(file_path):\n",
    "            os.unlink(file_path)\n",
    "    except Exception as e:\n",
    "        print('Failed to delete %s. Reason: %s' % (file_path, e))\n",
    "\n",
    "if not os.path.exists(OUTPUT_PATH):\n",
    "    os.makedirs(OUTPUT_PATH)"
   ]
  },
  {
   "cell_type": "markdown",
   "metadata": {},
   "source": [
    "## Universe"
   ]
  },
  {
   "cell_type": "code",
   "execution_count": 59,
   "metadata": {},
   "outputs": [
    {
     "name": "stdout",
     "output_type": "stream",
     "text": [
      "         name    lat     lon\n",
      "0     Isangel -19.53  169.28\n",
      "1        Vila -17.74  168.31\n",
      "2    Lakatoro -16.09  167.40\n",
      "3      Norsup -16.07  167.39\n",
      "4  Luganville -15.51  167.15\n"
     ]
    }
   ],
   "source": [
    "CITIES: pd.DataFrame = (\n",
    "    pd.read_csv('cities/vanuatu.csv', header=None, names=['name', 'lat', 'lon'])\n",
    "    # sorting by lat and lon\n",
    "    # TODO: consider sorting by relative distance, but this would immediately solve the TSP\n",
    "    # so i guess I'm finding this with the algorithm below\n",
    "    .sort_values(by=['lat', 'lon']).reset_index(drop=True)\n",
    ")\n",
    "\n",
    "NUM_CITIES: int = len(CITIES)\n",
    "print(CITIES.head())\n",
    "DIST_MATRIX: np.ndarray = np.zeros((len(CITIES), len(CITIES)), dtype=np.float64)\n",
    "for c1, c2 in combinations(CITIES.itertuples(), 2):\n",
    "    DIST_MATRIX[c1.Index, c2.Index] = DIST_MATRIX[c2.Index, c1.Index] = geopy.distance.geodesic(\n",
    "        (c1.lat, c1.lon), (c2.lat, c2.lon)\n",
    "    ).km"
   ]
  },
  {
   "cell_type": "markdown",
   "metadata": {},
   "source": [
    "# Plotting Cities Position"
   ]
  },
  {
   "cell_type": "code",
   "execution_count": 60,
   "metadata": {},
   "outputs": [
    {
     "data": {
      "image/png": "[encoded data removed]",
      "text/plain": [
       "<Figure size 1000x800 with 1 Axes>"
      ]
     },
     "metadata": {},
     "output_type": "display_data"
    }
   ],
   "source": [
    "plt.figure(figsize=(10, 8))\n",
    "plt.scatter(CITIES['lon'], CITIES['lat'], c='blue', marker='o')\n",
    "for i, city in CITIES.iterrows():\n",
    "    plt.text(city['lon'], city['lat'], city['name'], fontsize=9)\n",
    "plt.xlabel('Longitude')\n",
    "plt.ylabel('Latitude')\n",
    "plt.title('Cities in Italy')\n",
    "plt.grid(True)\n",
    "plt.show()"
   ]
  },
  {
   "cell_type": "markdown",
   "metadata": {},
   "source": [
    "# Utility"
   ]
  },
  {
   "cell_type": "code",
   "execution_count": 61,
   "metadata": {},
   "outputs": [],
   "source": [
    "def valid(solution: NDArray[np.int32] | list[int]) -> bool:\n",
    "    # TODO: check if 0 is a valid index\n",
    "    if np.isin(solution, -1).any() or solution[0] != solution[-1]:\n",
    "        return False\n",
    "    return len(set(solution)) == len(CITIES)\n",
    "\n",
    "\n",
    "def cost(solution: NDArray[np.int32] | list[int]) -> np.float64:\n",
    "    if not isinstance(solution, (list, np.ndarray)) and len(solution) < 1:\n",
    "        raise ValueError(f\"Solution wrong type: {type(solution)}\")\n",
    "    cumulative_dist: np.float64 = np.float64(0)\n",
    "    if not valid(solution):\n",
    "        return np.float64(np.inf)\n",
    "    for c1, c2 in zip(solution, solution[1:]):\n",
    "        cumulative_dist += np.float64(DIST_MATRIX[c1, c2])\n",
    "    return cumulative_dist\n",
    "\n",
    "\n",
    "# TODO: mutate inplace to avoid copying the genome and making the code more efficient\n",
    "def mutation(individual: NDArray[np.int32]) -> NDArray[np.int32]:\n",
    "    g1, g2 = -1, -1\n",
    "    mutated_genome = individual.copy()\n",
    "    # Avoid selecting index 0 and last\n",
    "    high = len(individual)\n",
    "    while g1 != g2:\n",
    "        # TODO: add a probability to move different cities that are close to each other\n",
    "        g1, g2 = np.random.randint(1, high, size=2)\n",
    "    mutated_genome[g1], mutated_genome[g2] = mutated_genome[g2], mutated_genome[g1]\n",
    "    # logging.debug(f\"g1: {g1}\\ng2: {g2}\\nresult:{mutated_genome}\")\n",
    "    return mutated_genome\n",
    "\n",
    "\n",
    "def get_top_k_parents(population: NDArray[np.int32], k: int = 2) -> NDArray[np.int32]:\n",
    "    population_cost: NDArray[np.float64] = np.array([cost(individual) for individual in population])\n",
    "    sorted_indices: NDArray[np.int32] = np.argsort(population_cost)\n",
    "\n",
    "    sorted_population: NDArray[np.int32] = population[sorted_indices]\n",
    "    return sorted_population[:k]\n",
    "\n",
    "\n",
    "def xover(p1: NDArray[np.int32], p2: NDArray[np.int32], mutation_rate: float | None = None) -> NDArray[np.int32]:\n",
    "    mask: NDArray[np.bool] = np.random.rand(len(p1)) < 0.5\n",
    "    # Selecting index 0 and last of the parent 1 (could be parent 2 as well)\n",
    "    mask[0] = mask[-1] = True\n",
    "    child: NDArray[np.int32] = np.full(len(p1), -1, dtype=np.int32)\n",
    "    child[mask] = p1[mask]\n",
    "    for i in range(len(child)):\n",
    "        p2_idx = 0\n",
    "        # if an element is -1 it will find an element not already present from p2 to add to the child\n",
    "        if child[i] == -1:\n",
    "            for p2_idx in range(len(p2)):\n",
    "                if p2[p2_idx] in child:\n",
    "                    continue\n",
    "                child[i] = p2[p2_idx]\n",
    "                break\n",
    "\n",
    "    # child = np.where(mask, p1.genome, p2.genome)\n",
    "\n",
    "    if mutation_rate is not None and np.random.rand() < mutation_rate:\n",
    "        child = mutation(child)\n",
    "\n",
    "    assert valid(child), f\"Invalid child: {child}\\n p1: {p1}, \\n p2:{p2}\"\n",
    "\n",
    "    return child"
   ]
  },
  {
   "cell_type": "markdown",
   "metadata": {},
   "source": [
    "## Recreational Utility"
   ]
  },
  {
   "cell_type": "markdown",
   "metadata": {},
   "source": [
    "### Saving PNGs"
   ]
  },
  {
   "cell_type": "code",
   "execution_count": 62,
   "metadata": {},
   "outputs": [],
   "source": [
    "def save_solution(solution: list[int] | NDArray[np.int32], gen: int, display: bool = False) -> None:\n",
    "    path_lons, path_lats = None, None\n",
    "    if isinstance(solution, list):\n",
    "        path_lons = [CITIES.iloc[city]['lon'] for city in solution]\n",
    "        path_lats = [CITIES.iloc[city]['lat'] for city in solution]\n",
    "    else:  # numpy array\n",
    "        path_lons = [CITIES.iloc[city]['lon'] for city in solution]\n",
    "        path_lats = [CITIES.iloc[city]['lat'] for city in solution]\n",
    "    plt.figure(figsize=(10, 8))\n",
    "    plt.scatter(CITIES['lon'], CITIES['lat'], c='blue', marker='o')\n",
    "    for _, city in CITIES.iterrows():\n",
    "        plt.text(city['lon'], city['lat'], city['name'], fontsize=9)\n",
    "    plt.plot(path_lons, path_lats, c='blue', linestyle='-', linewidth=1, marker='o', markerfacecolor='red')\n",
    "    plt.xlabel('Longitude')\n",
    "    plt.ylabel('Latitude')\n",
    "    plt.title(f'Best Travel Path - Generation {gen}')\n",
    "    plt.grid(True)\n",
    "    plt.savefig(f'{IMG_FOLDER}/gen_{gen}.png')\n",
    "    if display:\n",
    "        plt.show()\n",
    "    plt.close()"
   ]
  },
  {
   "cell_type": "markdown",
   "metadata": {},
   "source": [
    "### Making a video out of the PNGs"
   ]
  },
  {
   "cell_type": "code",
   "execution_count": 63,
   "metadata": {},
   "outputs": [],
   "source": [
    "def sorted_alphanumeric(data):\n",
    "    convert = lambda text: int(text) if text.isdigit() else text.lower()\n",
    "    alphanum_key = lambda key: [convert(c) for c in re.split('([0-9]+)', key)]\n",
    "    return sorted(data, key=alphanum_key)\n",
    "\n",
    "\n",
    "def make_video(img_folder: str = IMG_FOLDER, out_path: str = OUTPUT_PATH, video_name: str = VIDEO_NAME) -> None:\n",
    "    images = [img for img in sorted_alphanumeric(os.listdir(img_folder)) if img.endswith(\".png\")]\n",
    "    frame = cv2.imread(os.path.join(img_folder, images[0]))\n",
    "    height, width, layers = frame.shape\n",
    "\n",
    "    video = cv2.VideoWriter(f\"{OUTPUT_PATH}/{video_name}\", 0, 30, (width, height))\n",
    "\n",
    "    for image in images:\n",
    "        video.write(cv2.imread(os.path.join(img_folder, image)))\n",
    "\n",
    "    cv2.destroyAllWindows()\n",
    "    video.release()"
   ]
  },
  {
   "cell_type": "markdown",
   "metadata": {},
   "source": [
    "# Solution"
   ]
  },
  {
   "cell_type": "code",
   "execution_count": 67,
   "metadata": {},
   "outputs": [
    {
     "data": {
      "application/vnd.jupyter.widget-view+json": {
       "model_id": "bc86c60955e94842b0ef5a357e6d2c24",
       "version_major": 2,
       "version_minor": 0
      },
      "text/plain": [
       "  0%|          | 0/2000 [00:00<?, ?it/s]"
      ]
     },
     "metadata": {},
     "output_type": "display_data"
    },
    {
     "name": "stderr",
     "output_type": "stream",
     "text": [
      "INFO: result: Found a path of 8 steps, total length 1397.43km, valid: True\n"
     ]
    }
   ],
   "source": [
    "logging.basicConfig(format='%(levelname)s: %(message)s', level=logging.INFO)\n",
    "\n",
    "POPULATION_SIZE = 500\n",
    "MUTATION_RATE = 0.3\n",
    "NUM_ELITES = 20\n",
    "\n",
    "NUM_GENERATIONS = 2_000\n",
    "\n",
    "\n",
    "population: NDArray[np.int32] = np.array([np.random.permutation(NUM_CITIES) for _ in range(POPULATION_SIZE)])\n",
    "# considering one more cities for the circular path\n",
    "# best_evolution: NDArray[np.int32] = np.zeros((NUM_GENERATIONS, NUM_CITIES + 1), dtype=np.int32)\n",
    "\n",
    "# append first city at the end to make the path circular\n",
    "first_city: NDArray[np.int32] = population[:, 0].reshape(-1, 1)\n",
    "population = np.hstack((population, first_city))\n",
    "\n",
    "for solution in population:\n",
    "    assert valid(solution), f\"Invalid individual: {solution}\"\n",
    "\n",
    "\n",
    "for gen in tqdm(range(NUM_GENERATIONS)):\n",
    "    # best_evolution[gen, :] = population[np.argmin([cost(individual) for individual in population])]\n",
    "    elites: NDArray[np.int32] = get_top_k_parents(population, NUM_ELITES)\n",
    "    for n in range(NUM_ELITES):\n",
    "        child: NDArray[np.int32] = xover(elites[n], elites[(n + 1) % NUM_ELITES], MUTATION_RATE).reshape(1, -1)\n",
    "        # TODO: test if extra mutation chance\n",
    "        # if np.random.rand() < MUTATION_RATE:\n",
    "        #     child = mutation(child)\n",
    "        population = np.append(population, child, axis=0)\n",
    "    # TODO: consider allocating population as POPULATION_SIZE + NUM_ELITES/2 * NUM_GENERATIONS\n",
    "    population = population[-POPULATION_SIZE:].copy()\n",
    "\n",
    "best_traveler: NDArray[np.int32] = population[np.argmin([cost(individual) for individual in population])]\n",
    "logging.info(\n",
    "    f\"result: Found a path of {len(best_traveler)-1} steps, total length {cost(best_traveler):.2f}km, valid: {valid(best_traveler)}\"\n",
    ")\n",
    "\n",
    "# logging.info(\"Saving the evolution...\")\n",
    "# for gen in tqdm(range(NUM_GENERATIONS)):\n",
    "#     save_solution(best_evolution[gen], gen)\n",
    "save_solution(best_traveler, 0)\n",
    "\n",
    "# logging.info(\"Rendering Video...\")\n",
    "# make_video()"
   ]
  },
  {
   "cell_type": "markdown",
   "metadata": {},
   "source": [
    "# Professor method"
   ]
  },
  {
   "cell_type": "code",
   "execution_count": 65,
   "metadata": {},
   "outputs": [],
   "source": [
    "visited = np.full(len(CITIES), False)\n",
    "dist = DIST_MATRIX.copy()\n",
    "city = 0\n",
    "visited[city] = True\n",
    "tsp: list[int] = list()\n",
    "tsp.append(int(city))\n",
    "gen = 0\n",
    "while not np.all(visited):\n",
    "    dist[:, city] = np.inf\n",
    "    closest = np.argmin(dist[city])\n",
    "    visited[closest] = True\n",
    "    city = closest\n",
    "    tsp.append(int(city))\n",
    "    # save_solution(tsp, gen)\n",
    "    gen += 1\n",
    "\n",
    "logging.debug(f\"step: {CITIES.at[tsp[-1],'name']} -> {CITIES.at[tsp[0],'name']} ({DIST_MATRIX[tsp[-1],tsp[0]]:.2f}km)\")\n",
    "tsp.append(tsp[0])\n",
    "# save_solution(tsp, gen)\n",
    "\n",
    "logging.info(f\"result: Found a path of {len(tsp)-1} steps, total length {cost(tsp):.2f}km\")"
   ]
  }
 ],
 "metadata": {
  "kernelspec": {
   "display_name": "ci-AgYSsWFT-py3.12",
   "language": "python",
   "name": "python3"
  },
  "language_info": {
   "codemirror_mode": {
    "name": "ipython",
    "version": 3
   },
   "file_extension": ".py",
   "mimetype": "text/x-python",
   "name": "python",
   "nbconvert_exporter": "python",
   "pygments_lexer": "ipython3",
   "version": "3.12.7"
  }
 },
 "nbformat": 4,
 "nbformat_minor": 2
}
